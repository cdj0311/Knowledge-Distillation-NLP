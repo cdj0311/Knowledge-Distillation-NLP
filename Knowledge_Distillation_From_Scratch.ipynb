{
 "cells": [
  {
   "cell_type": "markdown",
   "metadata": {},
   "source": [
    "## Ref\n",
    "[Distilling the Knowledge in a Neural Network](http://arxiv.org/abs/1503.02531)"
   ]
  },
  {
   "cell_type": "markdown",
   "metadata": {},
   "source": [
    "### Setup"
   ]
  },
  {
   "cell_type": "code",
   "execution_count": 1,
   "metadata": {},
   "outputs": [],
   "source": [
    "import tensorflow as tf\n",
    "import matplotlib.pyplot as plt \n",
    "import numpy as np\n",
    "from tensorflow.keras.models import Sequential, load_model, Model\n",
    "from tensorflow.keras.layers import Conv2D,GlobalAveragePooling2D,Dense,Softmax,Flatten,MaxPooling2D,Dropout,Activation, Lambda, concatenate\n",
    "from tensorflow.keras.callbacks import ModelCheckpoint\n",
    "from tensorflow.keras.losses import kullback_leibler_divergence as KLD_Loss, categorical_crossentropy as logloss, sparse_categorical_crossentropy\n",
    "from tensorflow.keras.utils import to_categorical\n",
    "from tensorflow.keras.metrics import categorical_accuracy\n",
    "import seaborn as sns"
   ]
  },
  {
   "cell_type": "markdown",
   "metadata": {},
   "source": [
    "### Load and preprocess the data"
   ]
  },
  {
   "cell_type": "code",
   "execution_count": 2,
   "metadata": {},
   "outputs": [
    {
     "name": "stdout",
     "output_type": "stream",
     "text": [
      "x_train shape: (50000, 32, 32, 3) y_train shape: (50000, 1)\n"
     ]
    }
   ],
   "source": [
    "NUM_CLASSES = 10\n",
    "(x_train, y_train), (x_test, y_test) = tf.keras.datasets.cifar10.load_data()\n",
    "print(\"x_train shape:\", x_train.shape, \"y_train shape:\", y_train.shape)\n",
    "\n",
    "# Normalize the dataset\n",
    "x_train = x_train.astype('float32') / 255\n",
    "x_test = x_test.astype('float32') / 255"
   ]
  },
  {
   "cell_type": "markdown",
   "metadata": {},
   "source": [
    "### Create teacher model"
   ]
  },
  {
   "cell_type": "code",
   "execution_count": 3,
   "metadata": {},
   "outputs": [
    {
     "name": "stdout",
     "output_type": "stream",
     "text": [
      "Model: \"sequential\"\n",
      "_________________________________________________________________\n",
      "Layer (type)                 Output Shape              Param #   \n",
      "=================================================================\n",
      "conv2d (Conv2D)              (None, 32, 32, 32)        416       \n",
      "_________________________________________________________________\n",
      "max_pooling2d (MaxPooling2D) (None, 16, 16, 32)        0         \n",
      "_________________________________________________________________\n",
      "conv2d_1 (Conv2D)            (None, 16, 16, 64)        8256      \n",
      "_________________________________________________________________\n",
      "max_pooling2d_1 (MaxPooling2 (None, 8, 8, 64)          0         \n",
      "_________________________________________________________________\n",
      "flatten (Flatten)            (None, 4096)              0         \n",
      "_________________________________________________________________\n",
      "dense (Dense)                (None, 256)               1048832   \n",
      "_________________________________________________________________\n",
      "dropout (Dropout)            (None, 256)               0         \n",
      "_________________________________________________________________\n",
      "dense_1 (Dense)              (None, 10)                2570      \n",
      "_________________________________________________________________\n",
      "activation (Activation)      (None, 10)                0         \n",
      "=================================================================\n",
      "Total params: 1,060,074\n",
      "Trainable params: 1,060,074\n",
      "Non-trainable params: 0\n",
      "_________________________________________________________________\n"
     ]
    }
   ],
   "source": [
    "Teacher = Sequential() # Must define the input shape in the first layer of the neural network\n",
    "Teacher.add(Conv2D(filters=32, kernel_size=2, padding='same', activation='relu', input_shape=(32,32,3)))\n",
    "Teacher.add(MaxPooling2D(pool_size=2))\n",
    "Teacher.add(Conv2D(filters=64, kernel_size=2, padding='same', activation='relu'))\n",
    "Teacher.add(MaxPooling2D(pool_size=2))\n",
    "Teacher.add(Flatten())\n",
    "Teacher.add(Dense(256, activation='relu'))\n",
    "Teacher.add(Dropout(0.5))\n",
    "Teacher.add(Dense(10))\n",
    "Teacher.add(Activation('softmax'))\n",
    "\n",
    "Teacher.compile(loss='sparse_categorical_crossentropy',\n",
    "             optimizer='adam',\n",
    "             metrics=['accuracy'])\n",
    "\n",
    "# Take a look at the model summary\n",
    "\n",
    "Teacher.summary()"
   ]
  },
  {
   "cell_type": "code",
   "execution_count": 4,
   "metadata": {},
   "outputs": [
    {
     "name": "stdout",
     "output_type": "stream",
     "text": [
      "Epoch 1/20\n",
      "313/313 [==============================] - 1s 4ms/step - loss: 1.7145 - accuracy: 0.3769 - val_loss: 1.3755 - val_accuracy: 0.5176\n",
      "Epoch 2/20\n",
      "313/313 [==============================] - 1s 4ms/step - loss: 1.3876 - accuracy: 0.5020 - val_loss: 1.2331 - val_accuracy: 0.5725\n",
      "Epoch 3/20\n",
      "313/313 [==============================] - 1s 4ms/step - loss: 1.2614 - accuracy: 0.5483 - val_loss: 1.1643 - val_accuracy: 0.5924\n",
      "Epoch 4/20\n",
      "313/313 [==============================] - 1s 4ms/step - loss: 1.1685 - accuracy: 0.5817 - val_loss: 1.0758 - val_accuracy: 0.6257\n",
      "Epoch 5/20\n",
      "313/313 [==============================] - 1s 4ms/step - loss: 1.1125 - accuracy: 0.6014 - val_loss: 1.0395 - val_accuracy: 0.6354\n",
      "Epoch 6/20\n",
      "313/313 [==============================] - 1s 4ms/step - loss: 1.0573 - accuracy: 0.6251 - val_loss: 1.0140 - val_accuracy: 0.6463\n",
      "Epoch 7/20\n",
      "313/313 [==============================] - 1s 4ms/step - loss: 1.0093 - accuracy: 0.6416 - val_loss: 1.0042 - val_accuracy: 0.6482\n",
      "Epoch 8/20\n",
      "313/313 [==============================] - 1s 4ms/step - loss: 0.9675 - accuracy: 0.6566 - val_loss: 0.9511 - val_accuracy: 0.6614\n",
      "Epoch 9/20\n",
      "313/313 [==============================] - 1s 4ms/step - loss: 0.9299 - accuracy: 0.6689 - val_loss: 0.9383 - val_accuracy: 0.6690\n",
      "Epoch 10/20\n",
      "313/313 [==============================] - 1s 4ms/step - loss: 0.8937 - accuracy: 0.6827 - val_loss: 0.9292 - val_accuracy: 0.6715\n",
      "Epoch 11/20\n",
      "313/313 [==============================] - 1s 4ms/step - loss: 0.8598 - accuracy: 0.6931 - val_loss: 0.8999 - val_accuracy: 0.6822\n",
      "Epoch 12/20\n",
      "313/313 [==============================] - 1s 4ms/step - loss: 0.8313 - accuracy: 0.7045 - val_loss: 0.9220 - val_accuracy: 0.6731\n",
      "Epoch 13/20\n",
      "313/313 [==============================] - 1s 4ms/step - loss: 0.8078 - accuracy: 0.7130 - val_loss: 0.8957 - val_accuracy: 0.6897\n",
      "Epoch 14/20\n",
      "313/313 [==============================] - 1s 4ms/step - loss: 0.7851 - accuracy: 0.7197 - val_loss: 0.8842 - val_accuracy: 0.6938\n",
      "Epoch 15/20\n",
      "313/313 [==============================] - 1s 4ms/step - loss: 0.7479 - accuracy: 0.7319 - val_loss: 0.8885 - val_accuracy: 0.6927\n",
      "Epoch 16/20\n",
      "313/313 [==============================] - 1s 4ms/step - loss: 0.7248 - accuracy: 0.7392 - val_loss: 0.8806 - val_accuracy: 0.6921\n",
      "Epoch 17/20\n",
      "313/313 [==============================] - 1s 4ms/step - loss: 0.6997 - accuracy: 0.7503 - val_loss: 0.8659 - val_accuracy: 0.7007\n",
      "Epoch 18/20\n",
      "313/313 [==============================] - 1s 4ms/step - loss: 0.6746 - accuracy: 0.7569 - val_loss: 0.8626 - val_accuracy: 0.7056\n",
      "Epoch 19/20\n",
      "313/313 [==============================] - 1s 4ms/step - loss: 0.6477 - accuracy: 0.7700 - val_loss: 0.8671 - val_accuracy: 0.7075\n",
      "Epoch 20/20\n",
      "313/313 [==============================] - 1s 4ms/step - loss: 0.6280 - accuracy: 0.7721 - val_loss: 0.8855 - val_accuracy: 0.7019\n"
     ]
    },
    {
     "data": {
      "text/plain": [
       "<tensorflow.python.keras.callbacks.History at 0x7f90cc179460>"
      ]
     },
     "execution_count": 4,
     "metadata": {},
     "output_type": "execute_result"
    }
   ],
   "source": [
    "myCP = ModelCheckpoint(save_best_only=True, filepath='teacher.h5',monitor = 'val_accuracy')\n",
    "Teacher.fit(x_train,\n",
    "         y_train,\n",
    "         batch_size=128,\n",
    "         epochs=20,\n",
    "         validation_split = 0.2,\n",
    "         callbacks=[myCP])"
   ]
  },
  {
   "cell_type": "code",
   "execution_count": 5,
   "metadata": {},
   "outputs": [
    {
     "name": "stdout",
     "output_type": "stream",
     "text": [
      "313/313 [==============================] - 0s 1ms/step - loss: 0.8660 - accuracy: 0.7023\n"
     ]
    },
    {
     "data": {
      "text/plain": [
       "[0.8659979701042175, 0.7023000121116638]"
      ]
     },
     "execution_count": 5,
     "metadata": {},
     "output_type": "execute_result"
    }
   ],
   "source": [
    "# Retrieve best model from saved\n",
    "Teacher = load_model('teacher.h5')\n",
    "\n",
    "# Evaluation with test set\n",
    "Teacher.evaluate(x_test,y_test)"
   ]
  },
  {
   "cell_type": "markdown",
   "metadata": {},
   "source": [
    "### Understand temperature"
   ]
  },
  {
   "cell_type": "code",
   "execution_count": 6,
   "metadata": {},
   "outputs": [
    {
     "data": {
      "image/png": "[encoded data removed]",
      "text/plain": [
       "<Figure size 432x288 with 1 Axes>"
      ]
     },
     "metadata": {
      "needs_background": "light"
     },
     "output_type": "display_data"
    },
    {
     "data": {
      "text/plain": [
       "<Figure size 1008x432 with 0 Axes>"
      ]
     },
     "metadata": {},
     "output_type": "display_data"
    },
    {
     "data": {
      "text/plain": [
       "<Figure size 1008x432 with 0 Axes>"
      ]
     },
     "metadata": {},
     "output_type": "display_data"
    },
    {
     "data": {
      "text/plain": [
       "<Figure size 1008x432 with 0 Axes>"
      ]
     },
     "metadata": {},
     "output_type": "display_data"
    },
    {
     "data": {
      "text/plain": [
       "<Figure size 1008x432 with 0 Axes>"
      ]
     },
     "metadata": {},
     "output_type": "display_data"
    },
    {
     "data": {
      "text/plain": [
       "<Figure size 1008x432 with 0 Axes>"
      ]
     },
     "metadata": {},
     "output_type": "display_data"
    },
    {
     "data": {
      "image/png": "[encoded data removed]",
      "text/plain": [
       "<Figure size 1008x432 with 1 Axes>"
      ]
     },
     "metadata": {
      "needs_background": "light"
     },
     "output_type": "display_data"
    }
   ],
   "source": [
    "Teacher_logits = Model(Teacher.input,Teacher.layers[-2].output)\n",
    "\n",
    "logits_plot = []\n",
    "\n",
    "class_names = [\"airplane\",\"automobile\",\"bird\",\"cat\",\"deer\",\"dog\",\"frog\",\"horse\",\"ship\",\"truck\"]\n",
    "\n",
    "# Choose the item to visualize temperature\n",
    "item_idx = 8\n",
    "\n",
    "item_image = x_train[item_idx]\n",
    "\n",
    "plt.imshow(item_image)\n",
    "\n",
    "Temperatures = [1,5,10,20,35,50]\n",
    "\n",
    "\n",
    "for Temperature in Temperatures:\n",
    "    # Create temperature layer that produces logits with temperature\n",
    "    T_layer = Lambda(lambda x:x/Temperature)(Teacher_logits.output)\n",
    "\n",
    "    # Create a softmax layer\n",
    "    Softmax_layer = Softmax()(T_layer)\n",
    "    # Add the teacher T_layer to the whole model\n",
    "    Teacher_logits_soften = Model(Teacher.input,Softmax_layer)\n",
    "\n",
    "    # Append for plotting\n",
    "    logits_plot.append(Teacher_logits_soften.predict(np.array([item_image])))\n",
    "\n",
    "    plt.figure(figsize=(14, 6))\n",
    "    \n",
    "for i in range(len(Temperatures)):\n",
    "    sns.lineplot(class_names,logits_plot[i][0],legend=\"full\")\n",
    "    plt.title('This is a '+ class_names[y_train[item_idx][0]])\n",
    "    plt.legend(Temperatures,title=\"Temperatures\")"
   ]
  },
  {
   "cell_type": "code",
   "execution_count": 7,
   "metadata": {},
   "outputs": [],
   "source": [
    "Temperature = 3.25\n",
    "T_layer = Lambda(lambda x:x/Temperature)(Teacher_logits.output)\n",
    "Softmax_layer = Activation('softmax')(T_layer)\n",
    "Teacher_soften = Model(Teacher.input,Softmax_layer)"
   ]
  },
  {
   "cell_type": "code",
   "execution_count": 8,
   "metadata": {},
   "outputs": [],
   "source": [
    "# Predict and convert to sparse categorical matrix\n",
    "y_train_new = Teacher_soften.predict(x_train)\n",
    "y_test_new = Teacher_soften.predict(x_test)\n",
    "\n",
    "y_train_new = np.c_[to_categorical(y_train),y_train_new]\n",
    "y_test_new = np.c_[to_categorical(y_test),y_test_new]"
   ]
  },
  {
   "cell_type": "code",
   "execution_count": 9,
   "metadata": {},
   "outputs": [
    {
     "name": "stdout",
     "output_type": "stream",
     "text": [
      "Model: \"sequential_1\"\n",
      "_________________________________________________________________\n",
      "Layer (type)                 Output Shape              Param #   \n",
      "=================================================================\n",
      "flatten_1 (Flatten)          (None, 3072)              0         \n",
      "_________________________________________________________________\n",
      "dense_2 (Dense)              (None, 64)                196672    \n",
      "_________________________________________________________________\n",
      "dense_3 (Dense)              (None, 10)                650       \n",
      "=================================================================\n",
      "Total params: 197,322\n",
      "Trainable params: 197,322\n",
      "Non-trainable params: 0\n",
      "_________________________________________________________________\n"
     ]
    }
   ],
   "source": [
    "Student = Sequential() #a Must define the input shape in the first layer of the neural network\n",
    "Student.add(Flatten(input_shape=(32,32,3)))\n",
    "Student.add(Dense(64, activation='relu'))\n",
    "Student.add(Dense(10))\n",
    "Student.summary()"
   ]
  },
  {
   "cell_type": "code",
   "execution_count": 10,
   "metadata": {},
   "outputs": [],
   "source": [
    "student_logits = Student.layers[-1].output\n",
    "\n",
    "# Compute softmax\n",
    "probs = Activation(\"softmax\", name='probs')(student_logits)\n",
    "\n",
    "# Compute softmax with softened logits\n",
    "logits_T = Lambda(lambda x:x/Temperature)(student_logits)\n",
    "probs_T = Activation(\"softmax\")(logits_T)\n",
    "\n",
    "CombinedLayers = concatenate([probs,probs_T])\n",
    "\n",
    "StudentModel = Model(Student.input,CombinedLayers)\n",
    "\n",
    "StudentEval = Model(Student.input, probs)"
   ]
  },
  {
   "cell_type": "code",
   "execution_count": 11,
   "metadata": {},
   "outputs": [],
   "source": [
    "def KD_loss(y_true,y_pred,lambd=0.5,T=10.0):\n",
    "    y_true,y_true_KD = y_true[:,:NUM_CLASSES],y_true[:,NUM_CLASSES:]\n",
    "    y_pred,y_pred_KD = y_pred[:,:NUM_CLASSES],y_pred[:,NUM_CLASSES:]\n",
    "    # Classic cross-entropy (without temperature)\n",
    "    CE_loss = logloss(y_true,y_pred)\n",
    "    # KL-Divergence loss for softened output (with temperature)\n",
    "    KL_loss = T**2*KLD_Loss(y_true_KD,y_pred_KD)\n",
    "\n",
    "    return lambd*CE_loss + (1-lambd)*KL_loss\n",
    "\n",
    "def accuracy(y_true,y_pred):\n",
    "    return categorical_accuracy(y_true,y_pred)"
   ]
  },
  {
   "cell_type": "code",
   "execution_count": 12,
   "metadata": {},
   "outputs": [],
   "source": [
    "StudentModel.compile(optimizer='adam',loss=lambda y_true,y_pred: KD_loss(y_true, y_pred,lambd=0.5,T=Temperature),metrics=[accuracy])\n"
   ]
  },
  {
   "cell_type": "code",
   "execution_count": 13,
   "metadata": {},
   "outputs": [
    {
     "name": "stdout",
     "output_type": "stream",
     "text": [
      "Epoch 1/50\n",
      "333/333 [==============================] - 1s 3ms/step - loss: 3.5088 - accuracy: 0.3126 - val_loss: 3.2077 - val_accuracy: 0.3472\n",
      "Epoch 2/50\n",
      "333/333 [==============================] - 1s 3ms/step - loss: 3.0613 - accuracy: 0.3749 - val_loss: 2.9671 - val_accuracy: 0.3576\n",
      "Epoch 3/50\n",
      "333/333 [==============================] - 1s 3ms/step - loss: 2.9133 - accuracy: 0.3932 - val_loss: 2.7931 - val_accuracy: 0.3912\n",
      "Epoch 4/50\n",
      "333/333 [==============================] - 1s 3ms/step - loss: 2.8033 - accuracy: 0.4067 - val_loss: 2.9053 - val_accuracy: 0.3739\n",
      "Epoch 5/50\n",
      "333/333 [==============================] - 1s 3ms/step - loss: 2.7370 - accuracy: 0.4115 - val_loss: 2.8031 - val_accuracy: 0.3804\n",
      "Epoch 6/50\n",
      "333/333 [==============================] - 1s 3ms/step - loss: 2.6645 - accuracy: 0.4224 - val_loss: 2.6957 - val_accuracy: 0.3903\n",
      "Epoch 7/50\n",
      "333/333 [==============================] - 1s 3ms/step - loss: 2.6192 - accuracy: 0.4270 - val_loss: 2.6853 - val_accuracy: 0.3948\n",
      "Epoch 8/50\n",
      "333/333 [==============================] - 1s 3ms/step - loss: 2.5738 - accuracy: 0.4321 - val_loss: 2.6040 - val_accuracy: 0.4031\n",
      "Epoch 9/50\n",
      "333/333 [==============================] - 1s 3ms/step - loss: 2.5432 - accuracy: 0.4348 - val_loss: 2.6766 - val_accuracy: 0.3940\n",
      "Epoch 10/50\n",
      "333/333 [==============================] - 1s 3ms/step - loss: 2.5132 - accuracy: 0.4391 - val_loss: 2.5056 - val_accuracy: 0.4139\n",
      "Epoch 11/50\n",
      "333/333 [==============================] - 1s 3ms/step - loss: 2.4823 - accuracy: 0.4405 - val_loss: 2.6443 - val_accuracy: 0.4000\n",
      "Epoch 12/50\n",
      "333/333 [==============================] - 1s 3ms/step - loss: 2.4753 - accuracy: 0.4424 - val_loss: 2.8871 - val_accuracy: 0.3941\n",
      "Epoch 13/50\n",
      "333/333 [==============================] - 1s 3ms/step - loss: 2.4531 - accuracy: 0.4445 - val_loss: 2.4285 - val_accuracy: 0.4289\n",
      "Epoch 14/50\n",
      "333/333 [==============================] - 1s 3ms/step - loss: 2.4504 - accuracy: 0.4446 - val_loss: 2.4866 - val_accuracy: 0.4184\n",
      "Epoch 15/50\n",
      "333/333 [==============================] - 1s 3ms/step - loss: 2.4244 - accuracy: 0.4489 - val_loss: 2.5435 - val_accuracy: 0.4092\n",
      "Epoch 16/50\n",
      "333/333 [==============================] - 1s 3ms/step - loss: 2.4207 - accuracy: 0.4490 - val_loss: 2.4324 - val_accuracy: 0.4283\n",
      "Epoch 17/50\n",
      "333/333 [==============================] - 1s 3ms/step - loss: 2.4078 - accuracy: 0.4499 - val_loss: 2.4925 - val_accuracy: 0.4228\n",
      "Epoch 18/50\n",
      "333/333 [==============================] - 1s 3ms/step - loss: 2.4035 - accuracy: 0.4493 - val_loss: 2.6176 - val_accuracy: 0.4067\n",
      "Epoch 19/50\n",
      "333/333 [==============================] - 1s 3ms/step - loss: 2.3773 - accuracy: 0.4532 - val_loss: 2.4807 - val_accuracy: 0.4297\n",
      "Epoch 20/50\n",
      "333/333 [==============================] - 1s 3ms/step - loss: 2.3644 - accuracy: 0.4538 - val_loss: 2.3876 - val_accuracy: 0.4339\n",
      "Epoch 21/50\n",
      "333/333 [==============================] - 1s 3ms/step - loss: 2.3689 - accuracy: 0.4557 - val_loss: 2.4905 - val_accuracy: 0.4168\n",
      "Epoch 22/50\n",
      "333/333 [==============================] - 1s 3ms/step - loss: 2.3512 - accuracy: 0.4572 - val_loss: 2.4590 - val_accuracy: 0.4220\n",
      "Epoch 23/50\n",
      "333/333 [==============================] - 1s 3ms/step - loss: 2.3450 - accuracy: 0.4574 - val_loss: 2.4024 - val_accuracy: 0.4317\n",
      "Epoch 24/50\n",
      "333/333 [==============================] - 1s 3ms/step - loss: 2.3356 - accuracy: 0.4607 - val_loss: 2.4106 - val_accuracy: 0.4308\n",
      "Epoch 25/50\n",
      "333/333 [==============================] - 1s 3ms/step - loss: 2.3432 - accuracy: 0.4576 - val_loss: 2.3742 - val_accuracy: 0.4356\n",
      "Epoch 26/50\n",
      "333/333 [==============================] - 1s 3ms/step - loss: 2.3204 - accuracy: 0.4630 - val_loss: 2.4290 - val_accuracy: 0.4367\n",
      "Epoch 27/50\n",
      "333/333 [==============================] - 1s 3ms/step - loss: 2.3278 - accuracy: 0.4587 - val_loss: 2.4043 - val_accuracy: 0.4351\n",
      "Epoch 28/50\n",
      "333/333 [==============================] - 1s 3ms/step - loss: 2.3121 - accuracy: 0.4625 - val_loss: 2.4214 - val_accuracy: 0.4340\n",
      "Epoch 29/50\n",
      "333/333 [==============================] - 1s 3ms/step - loss: 2.3191 - accuracy: 0.4616 - val_loss: 2.5622 - val_accuracy: 0.4191\n",
      "Epoch 30/50\n",
      "333/333 [==============================] - 1s 3ms/step - loss: 2.3178 - accuracy: 0.4619 - val_loss: 2.4827 - val_accuracy: 0.4221\n",
      "Epoch 31/50\n",
      "333/333 [==============================] - 1s 3ms/step - loss: 2.3116 - accuracy: 0.4628 - val_loss: 2.7235 - val_accuracy: 0.4100\n",
      "Epoch 32/50\n",
      "333/333 [==============================] - 1s 3ms/step - loss: 2.3025 - accuracy: 0.4630 - val_loss: 2.3810 - val_accuracy: 0.4339\n",
      "Epoch 33/50\n",
      "333/333 [==============================] - 1s 3ms/step - loss: 2.2846 - accuracy: 0.4652 - val_loss: 2.4111 - val_accuracy: 0.4317\n",
      "Epoch 34/50\n",
      "333/333 [==============================] - 1s 3ms/step - loss: 2.2910 - accuracy: 0.4634 - val_loss: 2.4350 - val_accuracy: 0.4221\n",
      "Epoch 35/50\n",
      "333/333 [==============================] - 1s 3ms/step - loss: 2.2832 - accuracy: 0.4662 - val_loss: 2.3539 - val_accuracy: 0.4389\n",
      "Epoch 36/50\n",
      "333/333 [==============================] - 1s 3ms/step - loss: 2.2792 - accuracy: 0.4669 - val_loss: 2.3401 - val_accuracy: 0.4373\n",
      "Epoch 37/50\n",
      "333/333 [==============================] - 1s 3ms/step - loss: 2.2775 - accuracy: 0.4676 - val_loss: 2.5068 - val_accuracy: 0.4253\n",
      "Epoch 38/50\n",
      "333/333 [==============================] - 1s 3ms/step - loss: 2.2853 - accuracy: 0.4647 - val_loss: 2.4543 - val_accuracy: 0.4251\n",
      "Epoch 39/50\n",
      "333/333 [==============================] - 1s 3ms/step - loss: 2.2723 - accuracy: 0.4678 - val_loss: 2.4148 - val_accuracy: 0.4271\n",
      "Epoch 40/50\n",
      "333/333 [==============================] - 1s 3ms/step - loss: 2.2685 - accuracy: 0.4687 - val_loss: 2.6321 - val_accuracy: 0.3911\n",
      "Epoch 41/50\n",
      "333/333 [==============================] - 1s 3ms/step - loss: 2.2736 - accuracy: 0.4673 - val_loss: 2.3884 - val_accuracy: 0.4387\n",
      "Epoch 42/50\n",
      "333/333 [==============================] - 1s 3ms/step - loss: 2.2532 - accuracy: 0.4704 - val_loss: 2.3360 - val_accuracy: 0.4436\n",
      "Epoch 43/50\n",
      "333/333 [==============================] - 1s 3ms/step - loss: 2.2618 - accuracy: 0.4688 - val_loss: 2.4579 - val_accuracy: 0.4315\n",
      "Epoch 44/50\n",
      "333/333 [==============================] - 1s 3ms/step - loss: 2.2649 - accuracy: 0.4691 - val_loss: 2.3392 - val_accuracy: 0.4419\n",
      "Epoch 45/50\n",
      "333/333 [==============================] - 1s 3ms/step - loss: 2.2382 - accuracy: 0.4724 - val_loss: 2.4058 - val_accuracy: 0.4232\n",
      "Epoch 46/50\n",
      "333/333 [==============================] - 1s 3ms/step - loss: 2.2454 - accuracy: 0.4696 - val_loss: 2.3587 - val_accuracy: 0.4431\n",
      "Epoch 47/50\n",
      "333/333 [==============================] - 1s 3ms/step - loss: 2.2521 - accuracy: 0.4700 - val_loss: 2.8170 - val_accuracy: 0.4013\n",
      "Epoch 48/50\n",
      "333/333 [==============================] - 1s 3ms/step - loss: 2.2515 - accuracy: 0.4696 - val_loss: 2.4346 - val_accuracy: 0.4279\n",
      "Epoch 49/50\n",
      "333/333 [==============================] - 1s 3ms/step - loss: 2.2397 - accuracy: 0.4708 - val_loss: 2.3766 - val_accuracy: 0.4328\n",
      "Epoch 50/50\n",
      "333/333 [==============================] - 1s 3ms/step - loss: 2.2381 - accuracy: 0.4709 - val_loss: 2.3540 - val_accuracy: 0.4371\n"
     ]
    },
    {
     "data": {
      "text/plain": [
       "<tensorflow.python.keras.callbacks.History at 0x7f917e7036a0>"
      ]
     },
     "execution_count": 13,
     "metadata": {},
     "output_type": "execute_result"
    }
   ],
   "source": [
    "myCP = ModelCheckpoint(save_best_only=True,filepath='student.h5',monitor = 'val_accuracy')\n",
    "\n",
    "StudentModel.fit(x_train,y_train_new,epochs=50,validation_split=0.15,batch_size=128,callbacks=[myCP])"
   ]
  },
  {
   "cell_type": "code",
   "execution_count": 14,
   "metadata": {},
   "outputs": [
    {
     "name": "stdout",
     "output_type": "stream",
     "text": [
      "1563/1563 [==============================] - 2s 1ms/step - loss: 2.2336 - accuracy: 0.4698\n"
     ]
    },
    {
     "data": {
      "text/plain": [
       "[2.233569622039795, 0.46983999013900757]"
      ]
     },
     "execution_count": 14,
     "metadata": {},
     "output_type": "execute_result"
    }
   ],
   "source": [
    "StudentModel.load_weights('student.h5')\n",
    "StudentModel.evaluate(x_train,y_train_new)"
   ]
  },
  {
   "cell_type": "markdown",
   "metadata": {},
   "source": [
    "### Create a standalone student"
   ]
  },
  {
   "cell_type": "code",
   "execution_count": 15,
   "metadata": {},
   "outputs": [
    {
     "name": "stdout",
     "output_type": "stream",
     "text": [
      "Model: \"sequential_2\"\n",
      "_________________________________________________________________\n",
      "Layer (type)                 Output Shape              Param #   \n",
      "=================================================================\n",
      "flatten_2 (Flatten)          (None, 3072)              0         \n",
      "_________________________________________________________________\n",
      "dense_4 (Dense)              (None, 64)                196672    \n",
      "_________________________________________________________________\n",
      "dense_5 (Dense)              (None, 10)                650       \n",
      "=================================================================\n",
      "Total params: 197,322\n",
      "Trainable params: 197,322\n",
      "Non-trainable params: 0\n",
      "_________________________________________________________________\n"
     ]
    }
   ],
   "source": [
    "AloneModel = Sequential()\n",
    "AloneModel.add(Flatten(input_shape=(32,32,3)))\n",
    "AloneModel.add(Dense(64, activation='relu'))\n",
    "AloneModel.add(Dense(10, activation='softmax'))\n",
    "AloneModel.summary()"
   ]
  },
  {
   "cell_type": "code",
   "execution_count": 16,
   "metadata": {},
   "outputs": [
    {
     "name": "stdout",
     "output_type": "stream",
     "text": [
      "Epoch 1/50\n",
      "333/333 [==============================] - 1s 2ms/step - loss: 1.9461 - accuracy: 0.2981 - val_loss: 1.8667 - val_accuracy: 0.3271\n",
      "Epoch 2/50\n",
      "333/333 [==============================] - 1s 2ms/step - loss: 1.8113 - accuracy: 0.3554 - val_loss: 1.8115 - val_accuracy: 0.3465\n",
      "Epoch 3/50\n",
      "333/333 [==============================] - 1s 2ms/step - loss: 1.7634 - accuracy: 0.3767 - val_loss: 1.9717 - val_accuracy: 0.2973\n",
      "Epoch 4/50\n",
      "333/333 [==============================] - 1s 2ms/step - loss: 1.7398 - accuracy: 0.3844 - val_loss: 1.7643 - val_accuracy: 0.3785\n",
      "Epoch 5/50\n",
      "333/333 [==============================] - 1s 2ms/step - loss: 1.7067 - accuracy: 0.3959 - val_loss: 1.7648 - val_accuracy: 0.3793\n",
      "Epoch 6/50\n",
      "333/333 [==============================] - 1s 2ms/step - loss: 1.6893 - accuracy: 0.4020 - val_loss: 1.7494 - val_accuracy: 0.3745\n",
      "Epoch 7/50\n",
      "333/333 [==============================] - 1s 3ms/step - loss: 1.6749 - accuracy: 0.4060 - val_loss: 1.7262 - val_accuracy: 0.3841\n",
      "Epoch 8/50\n",
      "333/333 [==============================] - 1s 2ms/step - loss: 1.6568 - accuracy: 0.4137 - val_loss: 1.7069 - val_accuracy: 0.4037\n",
      "Epoch 9/50\n",
      "333/333 [==============================] - 1s 2ms/step - loss: 1.6432 - accuracy: 0.4213 - val_loss: 1.7389 - val_accuracy: 0.3796\n",
      "Epoch 10/50\n",
      "333/333 [==============================] - 1s 2ms/step - loss: 1.6333 - accuracy: 0.4241 - val_loss: 1.6470 - val_accuracy: 0.4163\n",
      "Epoch 11/50\n",
      "333/333 [==============================] - 1s 2ms/step - loss: 1.6185 - accuracy: 0.4292 - val_loss: 1.6752 - val_accuracy: 0.3963\n",
      "Epoch 12/50\n",
      "333/333 [==============================] - 1s 2ms/step - loss: 1.6069 - accuracy: 0.4318 - val_loss: 1.6333 - val_accuracy: 0.4253\n",
      "Epoch 13/50\n",
      "333/333 [==============================] - 1s 2ms/step - loss: 1.5917 - accuracy: 0.4369 - val_loss: 1.6228 - val_accuracy: 0.4268\n",
      "Epoch 14/50\n",
      "333/333 [==============================] - 1s 2ms/step - loss: 1.5887 - accuracy: 0.4374 - val_loss: 1.9289 - val_accuracy: 0.3463\n",
      "Epoch 15/50\n",
      "333/333 [==============================] - 1s 2ms/step - loss: 1.5943 - accuracy: 0.4346 - val_loss: 1.6514 - val_accuracy: 0.4180\n",
      "Epoch 16/50\n",
      "333/333 [==============================] - 1s 2ms/step - loss: 1.5734 - accuracy: 0.4429 - val_loss: 1.6210 - val_accuracy: 0.4245\n",
      "Epoch 17/50\n",
      "333/333 [==============================] - 1s 2ms/step - loss: 1.5643 - accuracy: 0.4447 - val_loss: 1.6665 - val_accuracy: 0.4148\n",
      "Epoch 18/50\n",
      "333/333 [==============================] - 1s 2ms/step - loss: 1.5654 - accuracy: 0.4455 - val_loss: 1.6371 - val_accuracy: 0.4209\n",
      "Epoch 19/50\n",
      "333/333 [==============================] - 1s 2ms/step - loss: 1.5586 - accuracy: 0.4480 - val_loss: 1.6213 - val_accuracy: 0.4261\n",
      "Epoch 20/50\n",
      "333/333 [==============================] - 1s 2ms/step - loss: 1.5503 - accuracy: 0.4504 - val_loss: 1.6127 - val_accuracy: 0.4239\n",
      "Epoch 21/50\n",
      "333/333 [==============================] - 1s 2ms/step - loss: 1.5501 - accuracy: 0.4496 - val_loss: 1.6100 - val_accuracy: 0.4303\n",
      "Epoch 22/50\n",
      "333/333 [==============================] - 1s 2ms/step - loss: 1.5434 - accuracy: 0.4497 - val_loss: 1.6464 - val_accuracy: 0.4152\n",
      "Epoch 23/50\n",
      "333/333 [==============================] - 1s 2ms/step - loss: 1.5420 - accuracy: 0.4542 - val_loss: 1.6365 - val_accuracy: 0.4192\n",
      "Epoch 24/50\n",
      "333/333 [==============================] - 1s 2ms/step - loss: 1.5411 - accuracy: 0.4528 - val_loss: 1.6000 - val_accuracy: 0.4288\n",
      "Epoch 25/50\n",
      "333/333 [==============================] - 1s 2ms/step - loss: 1.5383 - accuracy: 0.4532 - val_loss: 1.6236 - val_accuracy: 0.4212\n",
      "Epoch 26/50\n",
      "333/333 [==============================] - 1s 2ms/step - loss: 1.5346 - accuracy: 0.4549 - val_loss: 1.5993 - val_accuracy: 0.4320\n",
      "Epoch 27/50\n",
      "333/333 [==============================] - 1s 2ms/step - loss: 1.5291 - accuracy: 0.4566 - val_loss: 1.5976 - val_accuracy: 0.4367\n",
      "Epoch 28/50\n",
      "333/333 [==============================] - 1s 2ms/step - loss: 1.5239 - accuracy: 0.4587 - val_loss: 1.5944 - val_accuracy: 0.4367\n",
      "Epoch 29/50\n",
      "333/333 [==============================] - 1s 2ms/step - loss: 1.5245 - accuracy: 0.4588 - val_loss: 1.6670 - val_accuracy: 0.4141\n",
      "Epoch 30/50\n",
      "333/333 [==============================] - 1s 2ms/step - loss: 1.5230 - accuracy: 0.4574 - val_loss: 1.6507 - val_accuracy: 0.4159\n",
      "Epoch 31/50\n",
      "333/333 [==============================] - 1s 2ms/step - loss: 1.5233 - accuracy: 0.4592 - val_loss: 1.5817 - val_accuracy: 0.4379\n",
      "Epoch 32/50\n",
      "333/333 [==============================] - 1s 2ms/step - loss: 1.5182 - accuracy: 0.4644 - val_loss: 1.6704 - val_accuracy: 0.4236\n",
      "Epoch 33/50\n",
      "333/333 [==============================] - 1s 2ms/step - loss: 1.5200 - accuracy: 0.4596 - val_loss: 1.6304 - val_accuracy: 0.4287\n",
      "Epoch 34/50\n",
      "333/333 [==============================] - 1s 2ms/step - loss: 1.5106 - accuracy: 0.4620 - val_loss: 1.6120 - val_accuracy: 0.4303\n",
      "Epoch 35/50\n",
      "333/333 [==============================] - 1s 2ms/step - loss: 1.5129 - accuracy: 0.4645 - val_loss: 1.5906 - val_accuracy: 0.4417\n",
      "Epoch 36/50\n",
      "333/333 [==============================] - 1s 2ms/step - loss: 1.5090 - accuracy: 0.4652 - val_loss: 1.6887 - val_accuracy: 0.3875\n",
      "Epoch 37/50\n",
      "333/333 [==============================] - 1s 2ms/step - loss: 1.5132 - accuracy: 0.4630 - val_loss: 1.7001 - val_accuracy: 0.3959\n",
      "Epoch 38/50\n",
      "333/333 [==============================] - 1s 2ms/step - loss: 1.5024 - accuracy: 0.4678 - val_loss: 1.6429 - val_accuracy: 0.4131\n",
      "Epoch 39/50\n",
      "333/333 [==============================] - 1s 2ms/step - loss: 1.5009 - accuracy: 0.4664 - val_loss: 1.6018 - val_accuracy: 0.4369\n",
      "Epoch 40/50\n",
      "333/333 [==============================] - 1s 2ms/step - loss: 1.4999 - accuracy: 0.4654 - val_loss: 1.6191 - val_accuracy: 0.4289\n",
      "Epoch 41/50\n",
      "333/333 [==============================] - 1s 2ms/step - loss: 1.5021 - accuracy: 0.4672 - val_loss: 1.6129 - val_accuracy: 0.4312\n",
      "Epoch 42/50\n",
      "333/333 [==============================] - 1s 2ms/step - loss: 1.4987 - accuracy: 0.4684 - val_loss: 1.6561 - val_accuracy: 0.4187\n",
      "Epoch 43/50\n",
      "333/333 [==============================] - 1s 2ms/step - loss: 1.4971 - accuracy: 0.4684 - val_loss: 1.6524 - val_accuracy: 0.4205\n",
      "Epoch 44/50\n",
      "333/333 [==============================] - 1s 2ms/step - loss: 1.5008 - accuracy: 0.4649 - val_loss: 1.6151 - val_accuracy: 0.4287\n",
      "Epoch 45/50\n",
      "333/333 [==============================] - 1s 2ms/step - loss: 1.4926 - accuracy: 0.4697 - val_loss: 1.5865 - val_accuracy: 0.4393\n",
      "Epoch 46/50\n",
      "333/333 [==============================] - 1s 2ms/step - loss: 1.4958 - accuracy: 0.4660 - val_loss: 1.5826 - val_accuracy: 0.4367\n",
      "Epoch 47/50\n",
      "333/333 [==============================] - 1s 2ms/step - loss: 1.4883 - accuracy: 0.4705 - val_loss: 1.6333 - val_accuracy: 0.4169\n",
      "Epoch 48/50\n",
      "333/333 [==============================] - 1s 2ms/step - loss: 1.4920 - accuracy: 0.4694 - val_loss: 1.6107 - val_accuracy: 0.4337\n",
      "Epoch 49/50\n",
      "333/333 [==============================] - 1s 2ms/step - loss: 1.4856 - accuracy: 0.4738 - val_loss: 1.6057 - val_accuracy: 0.4328\n",
      "Epoch 50/50\n",
      "333/333 [==============================] - 1s 2ms/step - loss: 1.4840 - accuracy: 0.4739 - val_loss: 1.6431 - val_accuracy: 0.4287\n"
     ]
    },
    {
     "data": {
      "text/plain": [
       "<tensorflow.python.keras.callbacks.History at 0x7f917e4ff850>"
      ]
     },
     "execution_count": 16,
     "metadata": {},
     "output_type": "execute_result"
    }
   ],
   "source": [
    "AloneModel.compile(optimizer='adam',loss='sparse_categorical_crossentropy',metrics=['accuracy'])\n",
    "myCP = ModelCheckpoint(best_only=True, filepath='alone.h5', monitor='val_acc')\n",
    "AloneModel.fit(x_train, y_train, epochs=50, validation_split=0.15, batch_size=128, callbacks=[myCP])"
   ]
  },
  {
   "cell_type": "code",
   "execution_count": 17,
   "metadata": {},
   "outputs": [
    {
     "name": "stdout",
     "output_type": "stream",
     "text": [
      "313/313 [==============================] - 0s 1ms/step - loss: 1.6210 - accuracy: 0.4317\n"
     ]
    },
    {
     "data": {
      "text/plain": [
       "[1.6209990978240967, 0.4316999912261963]"
      ]
     },
     "execution_count": 17,
     "metadata": {},
     "output_type": "execute_result"
    }
   ],
   "source": [
    "AloneModel = load_model('alone.h5')\n",
    "AloneModel.evaluate(x_test, y_test)"
   ]
  },
  {
   "cell_type": "code",
   "execution_count": null,
   "metadata": {},
   "outputs": [],
   "source": []
  }
 ],
 "metadata": {
  "kernelspec": {
   "display_name": "keras",
   "language": "python",
   "name": "keras"
  },
  "language_info": {
   "codemirror_mode": {
    "name": "ipython",
    "version": 3
   },
   "file_extension": ".py",
   "mimetype": "text/x-python",
   "name": "python",
   "nbconvert_exporter": "python",
   "pygments_lexer": "ipython3",
   "version": "3.8.2"
  }
 },
 "nbformat": 4,
 "nbformat_minor": 4
}
